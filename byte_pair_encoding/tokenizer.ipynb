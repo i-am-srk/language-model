{
 "cells": [
  {
   "cell_type": "markdown",
   "metadata": {},
   "source": [
    "strings in python are sequences of unicode code points"
   ]
  },
  {
   "cell_type": "code",
   "execution_count": 3,
   "metadata": {},
   "outputs": [
    {
     "data": {
      "text/plain": [
       "104"
      ]
     },
     "execution_count": 3,
     "metadata": {},
     "output_type": "execute_result"
    }
   ],
   "source": [
    "ord('h') # ord function to get unidode code points in python"
   ]
  },
  {
   "cell_type": "markdown",
   "metadata": {},
   "source": [
    "the problem with this type of encoding is\n",
    "1. vocab size is too short\n",
    "2. unicode standard is dynamic and new characters keeps on getting added based on new scripts"
   ]
  },
  {
   "cell_type": "markdown",
   "metadata": {},
   "source": [
    "So, the need is something more stable\n",
    "therefore, encodings.\n",
    "\n",
    "3 types offered by the incode consortium - utf-8, utf-16, utf-32\n",
    "\n",
    "out of these, utf-8 is the most preferred one. But it generates variable byte stream which could be a problem when considering the language models context window which is limited for computational reasons. This will effect the next word prediction task"
   ]
  }
 ],
 "metadata": {
  "kernelspec": {
   "display_name": "llm",
   "language": "python",
   "name": "python3"
  },
  "language_info": {
   "codemirror_mode": {
    "name": "ipython",
    "version": 3
   },
   "file_extension": ".py",
   "mimetype": "text/x-python",
   "name": "python",
   "nbconvert_exporter": "python",
   "pygments_lexer": "ipython3",
   "version": "3.11.5"
  }
 },
 "nbformat": 4,
 "nbformat_minor": 2
}
